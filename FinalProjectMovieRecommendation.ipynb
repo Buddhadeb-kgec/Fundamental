{
  "nbformat": 4,
  "nbformat_minor": 0,
  "metadata": {
    "colab": {
      "provenance": [],
      "authorship_tag": "ABX9TyMPuE3OkmgE+MVwwX52KWls",
      "include_colab_link": true
    },
    "kernelspec": {
      "name": "python3",
      "display_name": "Python 3"
    },
    "language_info": {
      "name": "python"
    }
  },
  "cells": [
    {
      "cell_type": "markdown",
      "metadata": {
        "id": "view-in-github",
        "colab_type": "text"
      },
      "source": [
        "<a href=\"https://colab.research.google.com/github/Buddhadeb-kgec/Fundamental/blob/main/FinalProjectMovieRecommendation.ipynb\" target=\"_parent\"><img src=\"https://colab.research.google.com/assets/colab-badge.svg\" alt=\"Open In Colab\"/></a>"
      ]
    },
    {
      "cell_type": "markdown",
      "source": [
        "Movie Recommendation System"
      ],
      "metadata": {
        "id": "MDE4Xg7j-2sE"
      }
    },
    {
      "cell_type": "markdown",
      "source": [
        "Objective : To develop an intelligent movie recommendation system using advanced AI/ML algorithms that analyzes user preferences, viewing history, and genre trends to deliver personalized movie suggestions, enhancing user experience and engagement through accurate, data-driven recommendations."
      ],
      "metadata": {
        "id": "JRkczYf0-yRy"
      }
    },
    {
      "cell_type": "markdown",
      "source": [
        "Data Sourse : Github - 'https://github.com/YBI-Foundation/Dataset/raw/refs/heads/main/Movies%20Recommendation.csv'"
      ],
      "metadata": {
        "id": "mUgckwtc-uFM"
      }
    },
    {
      "cell_type": "code",
      "source": [
        "#Import library\n",
        "import pandas as pd\n",
        "import numpy as np\n",
        "# import matplotlib.pyplot as plt\n",
        "# import seaborn as sns\n",
        "\n",
        "#import Dataset\n",
        "\n",
        "df = pd.read_csv('https://github.com/YBI-Foundation/Dataset/raw/refs/heads/main/Movies%20Recommendation.csv')\n",
        "\n",
        "df.head()\n",
        "df.info()\n",
        "df.shape\n",
        "df.columns\n",
        "\n",
        "#features\n",
        "df_features = df[['Movie_Genre', 'Movie_Keywords','Movie_Tagline', 'Movie_Cast',\n",
        "       'Movie_Director']].fillna('')\n",
        "df_features.shape\n",
        "df_features\n",
        "\n",
        "x = df_features['Movie_Genre'] + ' ' + df_features['Movie_Keywords'] + ' ' + df_features['Movie_Tagline'] + ' ' + df_features['Movie_Cast'] + ' ' + df_features['Movie_Director']\n",
        "x\n",
        "x.shape\n",
        "\n",
        "#Get Features Text Conversion to Tokens\n",
        "from sklearn.feature_extraction.text import TfidfVectorizer\n",
        "tfidf = TfidfVectorizer()\n",
        "x = tfidf.fit_transform(x)\n",
        "x.shape\n",
        "print(x)\n",
        "\n",
        "from sklearn.metrics.pairwise import cosine_similarity\n",
        "similarity_score = cosine_similarity(x)\n",
        "similarity_score\n",
        "\n",
        "similarity_score.shape\n",
        "\n",
        "#get movie name as input from User an Validate for Closest Spelling\n",
        "Favourite_Movie_Name = input('Enter your favourite movie name :')\n",
        "#Enter your favourite movie name : The Dark Knight Rises\n",
        "All_Movies_Title_List = df['Movie_Title'].tolist()\n",
        "import difflib\n",
        "Movie_Recommendation = difflib.get_close_matches(Favourite_Movie_Name, All_Movies_Title_List)\n",
        "print(Movie_Recommendation)\n",
        "\n",
        "Close_Match = Movie_Recommendation[0]\n",
        "print(Close_Match)\n",
        "\n",
        "Index_of_Close_Match_Movie = df[df.Movie_Title == Close_Match]['Movie_ID'].values[0]\n",
        "print(Index_of_Close_Match_Movie)\n",
        "\n",
        "# getting a list of similar movie\n",
        "Recommendation_score = list(enumerate(similarity_score[Index_of_Close_Match_Movie]))\n",
        "print(Recommendation_score)\n",
        "\n",
        "len(Recommendation_score)\n",
        "\n",
        "#sorting the movies based on their similarity score\n",
        "Sorted_Similar_Movies = sorted(Recommendation_score, key = lambda x:x[1], reverse = True)\n",
        "print(Sorted_Similar_Movies)\n",
        "\n",
        "# print the name of similar movies based on the index\n",
        "\n",
        "print('Top 30 Movies Suggested for you : \\n')\n",
        "i = 1\n",
        "\n",
        "for movie in Sorted_Similar_Movies:\n",
        "  index = movie[0]\n",
        "  title_from_index = df[df.index == index]['Movie_Title'].values[0]\n",
        "  if (i<31):\n",
        "    print(i, '.',title_from_index)\n",
        "    i+=1\n",
        "\n",
        "Movie_Name = input(' Enter your favourite movie name : ')\n",
        "list_of_all_titles = df['Movie_Title'].tolist()\n",
        "Find_Close_Match = difflib.get_close_matches(Movie_Name, list_of_all_titles)\n",
        "Close_Match = Find_Close_Match[0]\n",
        "Index_of_Movie = df[df.Movie_Title == Close_Match]['Movie_ID'].values[0]\n",
        "Recommendation_score = list(enumerate(similarity_score[Index_of_Movie]))\n",
        "Sorted_Similar_Movies = sorted(Recommendation_score, key = lambda x:x[1], reverse = True)\n",
        "print ('Top 10 Movies suggested for you : \\n')\n",
        "i = 1\n",
        "for movie in Sorted_Similar_Movies:\n",
        "  index = movie[0]\n",
        "  title_from_index = df[df.Movie_ID == index]['Movie_Title'].values\n",
        "  if (i<11):\n",
        "    print(i, '.', title_from_index)\n",
        "    i+=1\n"
      ],
      "metadata": {
        "colab": {
          "base_uri": "https://localhost:8080/"
        },
        "id": "L3enNDwlCHrL",
        "outputId": "ae6354eb-3242-46c5-d3eb-b7957946407f"
      },
      "execution_count": null,
      "outputs": [
        {
          "output_type": "stream",
          "name": "stdout",
          "text": [
            "<class 'pandas.core.frame.DataFrame'>\n",
            "RangeIndex: 4760 entries, 0 to 4759\n",
            "Data columns (total 21 columns):\n",
            " #   Column                    Non-Null Count  Dtype  \n",
            "---  ------                    --------------  -----  \n",
            " 0   Movie_ID                  4760 non-null   int64  \n",
            " 1   Movie_Title               4760 non-null   object \n",
            " 2   Movie_Genre               4760 non-null   object \n",
            " 3   Movie_Language            4760 non-null   object \n",
            " 4   Movie_Budget              4760 non-null   int64  \n",
            " 5   Movie_Popularity          4760 non-null   float64\n",
            " 6   Movie_Release_Date        4760 non-null   object \n",
            " 7   Movie_Revenue             4760 non-null   int64  \n",
            " 8   Movie_Runtime             4758 non-null   float64\n",
            " 9   Movie_Vote                4760 non-null   float64\n",
            " 10  Movie_Vote_Count          4760 non-null   int64  \n",
            " 11  Movie_Homepage            1699 non-null   object \n",
            " 12  Movie_Keywords            4373 non-null   object \n",
            " 13  Movie_Overview            4757 non-null   object \n",
            " 14  Movie_Production_House    4760 non-null   object \n",
            " 15  Movie_Production_Country  4760 non-null   object \n",
            " 16  Movie_Spoken_Language     4760 non-null   object \n",
            " 17  Movie_Tagline             3942 non-null   object \n",
            " 18  Movie_Cast                4733 non-null   object \n",
            " 19  Movie_Crew                4760 non-null   object \n",
            " 20  Movie_Director            4738 non-null   object \n",
            "dtypes: float64(3), int64(4), object(14)\n",
            "memory usage: 781.1+ KB\n",
            "  (0, 3583)\t0.06486754376295062\n",
            "  (0, 3240)\t0.04527089872278055\n",
            "  (0, 7213)\t0.25146675849405775\n",
            "  (0, 10898)\t0.17625708810661284\n",
            "  (0, 17052)\t0.26079573581490934\n",
            "  (0, 5059)\t0.29553419178998613\n",
            "  (0, 16862)\t0.12768803549311025\n",
            "  (0, 1595)\t0.15687561633854538\n",
            "  (0, 13052)\t0.1465525095337543\n",
            "  (0, 15708)\t0.17654247479915475\n",
            "  (0, 11362)\t0.18801785343006192\n",
            "  (0, 6463)\t0.18801785343006192\n",
            "  (0, 5662)\t0.1465525095337543\n",
            "  (0, 13467)\t0.19712637387361423\n",
            "  (0, 12731)\t0.19712637387361423\n",
            "  (0, 614)\t0.07642616241686973\n",
            "  (0, 11244)\t0.08262965296941757\n",
            "  (0, 9206)\t0.15186283580984414\n",
            "  (0, 1495)\t0.19712637387361423\n",
            "  (0, 7454)\t0.14745635785412262\n",
            "  (0, 7071)\t0.19822417598406614\n",
            "  (0, 5499)\t0.11454057510303811\n",
            "  (0, 3878)\t0.11998399582562203\n",
            "  (0, 11242)\t0.07277788238484746\n",
            "  (0, 15219)\t0.09800472886453934\n",
            "  :\t:\n",
            "  (4757, 3485)\t0.199161573117024\n",
            "  (4757, 1184)\t0.18890726729447022\n",
            "  (4757, 14568)\t0.24255077606762876\n",
            "  (4757, 15508)\t0.24255077606762876\n",
            "  (4757, 5802)\t0.24255077606762876\n",
            "  (4757, 819)\t0.27474840155297187\n",
            "  (4757, 14195)\t0.28805858134028367\n",
            "  (4757, 2227)\t0.28805858134028367\n",
            "  (4757, 7691)\t0.28805858134028367\n",
            "  (4757, 1932)\t0.28805858134028367\n",
            "  (4758, 5238)\t1.0\n",
            "  (4759, 10666)\t0.15888268987343043\n",
            "  (4759, 1490)\t0.21197258705292082\n",
            "  (4759, 15431)\t0.19628653185946862\n",
            "  (4759, 5690)\t0.19534291014627303\n",
            "  (4759, 14051)\t0.20084315377640435\n",
            "  (4759, 4358)\t0.18306542312175342\n",
            "  (4759, 10761)\t0.3126617295732147\n",
            "  (4759, 7130)\t0.26419662449963793\n",
            "  (4759, 3058)\t0.2812896191863103\n",
            "  (4759, 14062)\t0.3237911628497312\n",
            "  (4759, 8902)\t0.3040290704566037\n",
            "  (4759, 205)\t0.3237911628497312\n",
            "  (4759, 11708)\t0.33947721804318337\n",
            "  (4759, 11264)\t0.33947721804318337\n"
          ]
        }
      ]
    },
    {
      "cell_type": "markdown",
      "source": [
        "Import Library"
      ],
      "metadata": {
        "id": "hpRXVxMjA079"
      }
    },
    {
      "cell_type": "code",
      "source": [
        "import pandas as pd\n",
        "import numpy as np"
      ],
      "metadata": {
        "id": "g-fQ6TDXA9PJ"
      },
      "execution_count": null,
      "outputs": []
    },
    {
      "cell_type": "markdown",
      "source": [
        "Import Data"
      ],
      "metadata": {
        "id": "Sqc3D5m2BGaT"
      }
    },
    {
      "cell_type": "code",
      "source": [
        "df = pd.read_csv('https://github.com/YBI-Foundation/Dataset/raw/refs/heads/main/Movies%20Recommendation.csv')"
      ],
      "metadata": {
        "id": "zxTHvwv7BL6i"
      },
      "execution_count": null,
      "outputs": []
    },
    {
      "cell_type": "markdown",
      "source": [
        "Describe Data"
      ],
      "metadata": {
        "id": "XA9RjMQDBSYn"
      }
    },
    {
      "cell_type": "code",
      "source": [
        "df.head()\n",
        "df.info()\n",
        "df.shape\n",
        "df.columns"
      ],
      "metadata": {
        "id": "mkkoxJfnBbIL"
      },
      "execution_count": null,
      "outputs": []
    },
    {
      "cell_type": "markdown",
      "source": [
        "Data Visualization"
      ],
      "metadata": {
        "id": "nNNwGCSSBhUV"
      }
    }
  ]
}